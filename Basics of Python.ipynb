{
 "cells": [
  {
   "cell_type": "markdown",
   "id": "7950b1f7",
   "metadata": {},
   "source": [
    "# Exercise 1: Prime Numbers:  \n",
    "\n",
    "- Write a Python program that checks whether a given number is prime or not. A prime number is a natural number greater than 1 that has no positive divisors other than 1 and itself"
   ]
  },
  {
   "cell_type": "code",
   "execution_count": 1,
   "id": "222b18a8",
   "metadata": {},
   "outputs": [],
   "source": [
    "def is_prime(n):\n",
    "    \"\"\"Check if a number is prime.\"\"\"\n",
    "    if n <= 1:\n",
    "        return False\n",
    "    if n <= 3:\n",
    "        return True\n",
    "    if n % 2 == 0 or n % 3 == 0:\n",
    "        return False\n",
    "    i = 5\n",
    "    while i * i <= n:\n",
    "        if n % i == 0 or n % (i + 2) == 0:\n",
    "            return False\n",
    "        i += 6\n",
    "    return True"
   ]
  },
  {
   "cell_type": "code",
   "execution_count": 4,
   "id": "62b71da5",
   "metadata": {},
   "outputs": [
    {
     "data": {
      "text/plain": [
       "False"
      ]
     },
     "execution_count": 4,
     "metadata": {},
     "output_type": "execute_result"
    }
   ],
   "source": [
    "is_prime(10)"
   ]
  },
  {
   "cell_type": "code",
   "execution_count": 5,
   "id": "a87ee80a",
   "metadata": {},
   "outputs": [
    {
     "data": {
      "text/plain": [
       "True"
      ]
     },
     "execution_count": 5,
     "metadata": {},
     "output_type": "execute_result"
    }
   ],
   "source": [
    "is_prime(7)"
   ]
  },
  {
   "cell_type": "code",
   "execution_count": 6,
   "id": "6ee7594b",
   "metadata": {},
   "outputs": [
    {
     "data": {
      "text/plain": [
       "True"
      ]
     },
     "execution_count": 6,
     "metadata": {},
     "output_type": "execute_result"
    }
   ],
   "source": [
    "is_prime(11)"
   ]
  },
  {
   "cell_type": "code",
   "execution_count": 8,
   "id": "cdfb137c",
   "metadata": {},
   "outputs": [
    {
     "data": {
      "text/plain": [
       "True"
      ]
     },
     "execution_count": 8,
     "metadata": {},
     "output_type": "execute_result"
    }
   ],
   "source": [
    "is_prime(43)"
   ]
  },
  {
   "cell_type": "code",
   "execution_count": 13,
   "id": "6c46d4d0",
   "metadata": {},
   "outputs": [
    {
     "data": {
      "text/plain": [
       "True"
      ]
     },
     "execution_count": 13,
     "metadata": {},
     "output_type": "execute_result"
    }
   ],
   "source": [
    "is_prime(29)"
   ]
  },
  {
   "cell_type": "code",
   "execution_count": 14,
   "id": "3364a34d",
   "metadata": {},
   "outputs": [],
   "source": [
    "def generate_primes(n):\n",
    "    \"\"\"Generate the first n prime numbers.\"\"\"\n",
    "    primes = []\n",
    "    candidate = 2\n",
    "    while len(primes) < n:\n",
    "        if is_prime(candidate):\n",
    "            primes.append(candidate)\n",
    "        candidate += 1\n",
    "    return primes"
   ]
  },
  {
   "cell_type": "code",
   "execution_count": 15,
   "id": "88d8e66e",
   "metadata": {},
   "outputs": [
    {
     "name": "stdout",
     "output_type": "stream",
     "text": [
      "[2, 3, 5, 7, 11, 13, 17, 19, 23, 29]\n"
     ]
    }
   ],
   "source": [
    "first_10_primes = generate_primes(10)\n",
    "print(first_10_primes)"
   ]
  },
  {
   "cell_type": "markdown",
   "id": "a3013fdd",
   "metadata": {},
   "source": [
    "# Exercise 2: Product of Random Numbers\n",
    "\n",
    "- Develop a Python program that generates two random numbers and asks the user to enter the product of these numbers. The program should then check if the user's answer is correct and display an appropriate message"
   ]
  },
  {
   "cell_type": "code",
   "execution_count": 16,
   "id": "f45a987a",
   "metadata": {},
   "outputs": [],
   "source": [
    "import random"
   ]
  },
  {
   "cell_type": "code",
   "execution_count": 17,
   "id": "1834fdda",
   "metadata": {},
   "outputs": [],
   "source": [
    "def multiplication_quiz():\n",
    "    # Generate two random numbers between 1 and 10\n",
    "    num1 = random.randint(1, 10)\n",
    "    num2 = random.randint(1, 10)\n",
    "\n",
    "    # Calculate the correct answer\n",
    "    correct_answer = num1 * num2\n",
    "\n",
    "    # Ask the user for their answer\n",
    "    user_answer = int(input(f\"What is {num1} * {num2}? \"))\n",
    "\n",
    "    # Check if the user's answer is correct\n",
    "    if user_answer == correct_answer:\n",
    "        print(\"Correct! Well done!\")\n",
    "    else:\n",
    "        print(f\"Incorrect. The correct answer is {correct_answer}.\")"
   ]
  },
  {
   "cell_type": "code",
   "execution_count": 18,
   "id": "bc1f8845",
   "metadata": {},
   "outputs": [
    {
     "name": "stdout",
     "output_type": "stream",
     "text": [
      "What is 7 * 7? 49\n",
      "Correct! Well done!\n"
     ]
    }
   ],
   "source": [
    "multiplication_quiz()"
   ]
  },
  {
   "cell_type": "code",
   "execution_count": 19,
   "id": "3b14124d",
   "metadata": {},
   "outputs": [
    {
     "name": "stdout",
     "output_type": "stream",
     "text": [
      "What is 6 * 8? 48\n",
      "Correct! Well done!\n"
     ]
    }
   ],
   "source": [
    "multiplication_quiz()"
   ]
  },
  {
   "cell_type": "code",
   "execution_count": 20,
   "id": "7b1e3df4",
   "metadata": {},
   "outputs": [
    {
     "name": "stdout",
     "output_type": "stream",
     "text": [
      "What is 7 * 2? 15\n",
      "Incorrect. The correct answer is 14.\n"
     ]
    }
   ],
   "source": [
    "multiplication_quiz()"
   ]
  },
  {
   "cell_type": "markdown",
   "id": "2a4e3c8b",
   "metadata": {},
   "source": [
    "# Exercise 3: Squares of Even/Odd Numbers\n",
    "\n",
    "- Create a Python script that prints the squares of all even or odd numbers within the range of 100 to 200. Choose either even or odd numbers and document your choice in the code."
   ]
  },
  {
   "cell_type": "code",
   "execution_count": 21,
   "id": "6943b0fb",
   "metadata": {},
   "outputs": [],
   "source": [
    "def print_even_squares(start, end):\n",
    "    \"\"\"\n",
    "    Prints the squares of all even numbers within the specified range.\n",
    "\n",
    "    Args:\n",
    "        start (int): The start of the range.\n",
    "        end (int): The end of the range.\n",
    "    \"\"\"\n",
    "    for number in range(start, end + 1):\n",
    "        if number % 2 == 0:\n",
    "            print(f\"The square of {number} is {number ** 2}\")"
   ]
  },
  {
   "cell_type": "code",
   "execution_count": 22,
   "id": "e56fbf86",
   "metadata": {},
   "outputs": [],
   "source": [
    "# Define the range\n",
    "\n",
    "start = 100\n",
    "end = 200"
   ]
  },
  {
   "cell_type": "code",
   "execution_count": 23,
   "id": "773dce3f",
   "metadata": {},
   "outputs": [],
   "source": [
    "# Print the squares of all even numbers within the range"
   ]
  },
  {
   "cell_type": "code",
   "execution_count": 24,
   "id": "82557e44",
   "metadata": {},
   "outputs": [
    {
     "name": "stdout",
     "output_type": "stream",
     "text": [
      "The square of 100 is 10000\n",
      "The square of 102 is 10404\n",
      "The square of 104 is 10816\n",
      "The square of 106 is 11236\n",
      "The square of 108 is 11664\n",
      "The square of 110 is 12100\n",
      "The square of 112 is 12544\n",
      "The square of 114 is 12996\n",
      "The square of 116 is 13456\n",
      "The square of 118 is 13924\n",
      "The square of 120 is 14400\n",
      "The square of 122 is 14884\n",
      "The square of 124 is 15376\n",
      "The square of 126 is 15876\n",
      "The square of 128 is 16384\n",
      "The square of 130 is 16900\n",
      "The square of 132 is 17424\n",
      "The square of 134 is 17956\n",
      "The square of 136 is 18496\n",
      "The square of 138 is 19044\n",
      "The square of 140 is 19600\n",
      "The square of 142 is 20164\n",
      "The square of 144 is 20736\n",
      "The square of 146 is 21316\n",
      "The square of 148 is 21904\n",
      "The square of 150 is 22500\n",
      "The square of 152 is 23104\n",
      "The square of 154 is 23716\n",
      "The square of 156 is 24336\n",
      "The square of 158 is 24964\n",
      "The square of 160 is 25600\n",
      "The square of 162 is 26244\n",
      "The square of 164 is 26896\n",
      "The square of 166 is 27556\n",
      "The square of 168 is 28224\n",
      "The square of 170 is 28900\n",
      "The square of 172 is 29584\n",
      "The square of 174 is 30276\n",
      "The square of 176 is 30976\n",
      "The square of 178 is 31684\n",
      "The square of 180 is 32400\n",
      "The square of 182 is 33124\n",
      "The square of 184 is 33856\n",
      "The square of 186 is 34596\n",
      "The square of 188 is 35344\n",
      "The square of 190 is 36100\n",
      "The square of 192 is 36864\n",
      "The square of 194 is 37636\n",
      "The square of 196 is 38416\n",
      "The square of 198 is 39204\n",
      "The square of 200 is 40000\n"
     ]
    }
   ],
   "source": [
    "print_even_squares(start, end)"
   ]
  },
  {
   "cell_type": "markdown",
   "id": "928d4584",
   "metadata": {},
   "source": [
    "# Exercise 4: Word counter"
   ]
  },
  {
   "cell_type": "code",
   "execution_count": 25,
   "id": "4d286641",
   "metadata": {},
   "outputs": [],
   "source": [
    "def count_words(input_text):\n",
    "    \"\"\"\n",
    "    Counts the number of words in the given text and prints the frequency of each word.\n",
    "\n",
    "    Args:\n",
    "        input_text (str): The text to analyze.\n",
    "    \"\"\"\n",
    "    # Remove punctuation and convert the text to lower case\n",
    "    input_text = input_text.lower()\n",
    "    \n",
    "    # Replace punctuations with spaces\n",
    "    for char in '-.,\\n':\n",
    "        input_text = input_text.replace(char, ' ')\n",
    "    \n",
    "    # Split the text into words\n",
    "    words = input_text.split()\n",
    "    \n",
    "    # Create a dictionary to store the word counts\n",
    "    word_counts = {}\n",
    "    \n",
    "    # Count the frequency of each word\n",
    "    for word in words:\n",
    "        if word in word_counts:\n",
    "            word_counts[word] += 1\n",
    "        else:\n",
    "            word_counts[word] = 1\n",
    "    \n",
    "    # Print the word counts\n",
    "    for word, count in word_counts.items():\n",
    "        print(f\"'{word}': {count}\")"
   ]
  },
  {
   "cell_type": "code",
   "execution_count": 26,
   "id": "81fe71ef",
   "metadata": {},
   "outputs": [],
   "source": [
    "input_text = \"This is a sample text\""
   ]
  },
  {
   "cell_type": "code",
   "execution_count": 27,
   "id": "1c72d7d6",
   "metadata": {},
   "outputs": [
    {
     "name": "stdout",
     "output_type": "stream",
     "text": [
      "'this': 1\n",
      "'is': 1\n",
      "'a': 1\n",
      "'sample': 1\n",
      "'text': 1\n"
     ]
    }
   ],
   "source": [
    "count_words(input_text)"
   ]
  },
  {
   "cell_type": "markdown",
   "id": "d0ba3bed",
   "metadata": {},
   "source": [
    "# Exercise 5: Check for Palindrome\n",
    "\n",
    "- Write a Python function called is_palindrome that takes a string as input and returns True if the string is a palindrome, and False otherwise. A palindrome is a word, phrase, number, or other sequence of characters that reads the same forward and backward, ignoring spaces, punctuation, and capitalization"
   ]
  },
  {
   "cell_type": "code",
   "execution_count": 28,
   "id": "56a48f87",
   "metadata": {},
   "outputs": [],
   "source": [
    "import string"
   ]
  },
  {
   "cell_type": "code",
   "execution_count": 29,
   "id": "73331057",
   "metadata": {},
   "outputs": [],
   "source": [
    "def is_palindrome(input_string):\n",
    "    \"\"\"\n",
    "    Checks if the input string is a palindrome, ignoring spaces, punctuation, and capitalization.\n",
    "\n",
    "    Args:\n",
    "        input_string (str): The string to check.\n",
    "\n",
    "    Returns:\n",
    "        bool: True if the string is a palindrome, False otherwise.\n",
    "    \"\"\"\n",
    "    # Remove punctuation, spaces, and convert to lowercase\n",
    "    translator = str.maketrans('', '', string.punctuation + ' ')\n",
    "    cleaned_string = input_string.translate(translator).lower()\n",
    "    \n",
    "    # Remove any remaining spaces\n",
    "    cleaned_string = cleaned_string.replace(\" \", \"\")\n",
    "    \n",
    "    # Check if the cleaned string is equal to its reverse\n",
    "    return cleaned_string == cleaned_string[::-1]"
   ]
  },
  {
   "cell_type": "code",
   "execution_count": 30,
   "id": "d35560e5",
   "metadata": {},
   "outputs": [
    {
     "name": "stdout",
     "output_type": "stream",
     "text": [
      "True\n",
      "True\n",
      "False\n"
     ]
    }
   ],
   "source": [
    "# Example usage\n",
    "print(is_palindrome(\"racecar\"))\n",
    "print(is_palindrome(\"A man, a plan, a canal, Panama\"))\n",
    "print(is_palindrome(\"hello\"))"
   ]
  },
  {
   "cell_type": "code",
   "execution_count": null,
   "id": "f6297b08",
   "metadata": {},
   "outputs": [],
   "source": []
  }
 ],
 "metadata": {
  "kernelspec": {
   "display_name": "Python 3 (ipykernel)",
   "language": "python",
   "name": "python3"
  },
  "language_info": {
   "codemirror_mode": {
    "name": "ipython",
    "version": 3
   },
   "file_extension": ".py",
   "mimetype": "text/x-python",
   "name": "python",
   "nbconvert_exporter": "python",
   "pygments_lexer": "ipython3",
   "version": "3.11.5"
  }
 },
 "nbformat": 4,
 "nbformat_minor": 5
}
